{
 "cells": [
  {
   "cell_type": "markdown",
   "metadata": {},
   "source": [
    "# Simulation of patient length of stays"
   ]
  },
  {
   "cell_type": "markdown",
   "metadata": {},
   "source": [
    "In this notebook, I describe how I simulated patient lengths of stay for my project at Insight. I simulated this data to serve as both a proof of concept and a benchmark for performance of a predictive model which would take hospital spatial data as an input and an outcome of interest like patient length of stay."
   ]
  },
  {
   "cell_type": "markdown",
   "metadata": {},
   "source": [
    "First, I import necessary packages."
   ]
  },
  {
   "cell_type": "code",
   "execution_count": 30,
   "metadata": {},
   "outputs": [],
   "source": [
    "#standard\n",
    "import pandas as pd\n",
    "import janitor\n",
    "import numpy as np\n",
    "import seaborn as sns\n",
    "import matplotlib.pyplot as plt\n",
    "import scikitplot as skplt\n",
    "\n",
    "#Sampling\n",
    "from scipy.stats import gamma"
   ]
  },
  {
   "cell_type": "markdown",
   "metadata": {},
   "source": [
    "And now I read in my file. This file contains spatial data on 10,000 rooms from auto-generated AutoCAD floor plans that I received from Spatio Metrics. It also contains simulated patient outcomes (length of stay, pain medicine) and hospital outcomes (medical errors and complications)."
   ]
  },
  {
   "cell_type": "code",
   "execution_count": 7,
   "metadata": {},
   "outputs": [
    {
     "data": {
      "text/html": [
       "<div>\n",
       "<style scoped>\n",
       "    .dataframe tbody tr th:only-of-type {\n",
       "        vertical-align: middle;\n",
       "    }\n",
       "\n",
       "    .dataframe tbody tr th {\n",
       "        vertical-align: top;\n",
       "    }\n",
       "\n",
       "    .dataframe thead th {\n",
       "        text-align: right;\n",
       "    }\n",
       "</style>\n",
       "<table border=\"1\" class=\"dataframe\">\n",
       "  <thead>\n",
       "    <tr style=\"text-align: right;\">\n",
       "      <th></th>\n",
       "      <th>viewType</th>\n",
       "      <th>roomDepth</th>\n",
       "      <th>distToElevator</th>\n",
       "      <th>distToNurseStation</th>\n",
       "      <th>roomArea</th>\n",
       "      <th>lengthOfStay</th>\n",
       "      <th>painMedicine</th>\n",
       "      <th>medError</th>\n",
       "      <th>complicationRate</th>\n",
       "      <th>imgPath</th>\n",
       "      <th>roomCoordinateX</th>\n",
       "      <th>roomCoordinateY</th>\n",
       "      <th>headIsovist</th>\n",
       "      <th>doorIsovist</th>\n",
       "      <th>sinkIsovist</th>\n",
       "      <th>isGreenery</th>\n",
       "      <th>isBuilding</th>\n",
       "      <th>isParking</th>\n",
       "      <th>NA</th>\n",
       "      <th>NA.1</th>\n",
       "    </tr>\n",
       "  </thead>\n",
       "  <tbody>\n",
       "    <tr>\n",
       "      <th>0</th>\n",
       "      <td>hardscape</td>\n",
       "      <td>0.294253</td>\n",
       "      <td>236.617906</td>\n",
       "      <td>110.440005</td>\n",
       "      <td>450</td>\n",
       "      <td>5.154973</td>\n",
       "      <td>29.046473</td>\n",
       "      <td>0</td>\n",
       "      <td>0</td>\n",
       "      <td>0</td>\n",
       "      <td>-11.741383</td>\n",
       "      <td>99.007585</td>\n",
       "      <td>426.676555</td>\n",
       "      <td>480.776509</td>\n",
       "      <td>336.318056</td>\n",
       "      <td>0</td>\n",
       "      <td>1</td>\n",
       "      <td>0</td>\n",
       "      <td>0</td>\n",
       "      <td>0</td>\n",
       "    </tr>\n",
       "    <tr>\n",
       "      <th>1</th>\n",
       "      <td>building</td>\n",
       "      <td>0.464286</td>\n",
       "      <td>99.592921</td>\n",
       "      <td>19.918584</td>\n",
       "      <td>450</td>\n",
       "      <td>2.994674</td>\n",
       "      <td>12.641982</td>\n",
       "      <td>0</td>\n",
       "      <td>0</td>\n",
       "      <td>1</td>\n",
       "      <td>78.718213</td>\n",
       "      <td>-0.278939</td>\n",
       "      <td>548.296155</td>\n",
       "      <td>636.071360</td>\n",
       "      <td>374.817764</td>\n",
       "      <td>0</td>\n",
       "      <td>1</td>\n",
       "      <td>0</td>\n",
       "      <td>0</td>\n",
       "      <td>0</td>\n",
       "    </tr>\n",
       "    <tr>\n",
       "      <th>2</th>\n",
       "      <td>greenery</td>\n",
       "      <td>0.257143</td>\n",
       "      <td>153.002567</td>\n",
       "      <td>67.301283</td>\n",
       "      <td>450</td>\n",
       "      <td>4.084376</td>\n",
       "      <td>11.470255</td>\n",
       "      <td>0</td>\n",
       "      <td>0</td>\n",
       "      <td>2</td>\n",
       "      <td>75.563544</td>\n",
       "      <td>-60.183228</td>\n",
       "      <td>436.017976</td>\n",
       "      <td>493.723516</td>\n",
       "      <td>343.912753</td>\n",
       "      <td>1</td>\n",
       "      <td>0</td>\n",
       "      <td>0</td>\n",
       "      <td>0</td>\n",
       "      <td>0</td>\n",
       "    </tr>\n",
       "    <tr>\n",
       "      <th>3</th>\n",
       "      <td>greenery</td>\n",
       "      <td>0.300265</td>\n",
       "      <td>201.873097</td>\n",
       "      <td>119.523355</td>\n",
       "      <td>450</td>\n",
       "      <td>2.174077</td>\n",
       "      <td>7.381344</td>\n",
       "      <td>0</td>\n",
       "      <td>0</td>\n",
       "      <td>3</td>\n",
       "      <td>-19.022660</td>\n",
       "      <td>79.790069</td>\n",
       "      <td>445.453332</td>\n",
       "      <td>498.349012</td>\n",
       "      <td>347.664951</td>\n",
       "      <td>1</td>\n",
       "      <td>0</td>\n",
       "      <td>0</td>\n",
       "      <td>0</td>\n",
       "      <td>0</td>\n",
       "    </tr>\n",
       "    <tr>\n",
       "      <th>4</th>\n",
       "      <td>hardscape</td>\n",
       "      <td>0.301149</td>\n",
       "      <td>220.303850</td>\n",
       "      <td>122.501283</td>\n",
       "      <td>450</td>\n",
       "      <td>5.513778</td>\n",
       "      <td>32.983419</td>\n",
       "      <td>0</td>\n",
       "      <td>0</td>\n",
       "      <td>4</td>\n",
       "      <td>-76.602378</td>\n",
       "      <td>58.855296</td>\n",
       "      <td>436.017976</td>\n",
       "      <td>493.723516</td>\n",
       "      <td>343.912753</td>\n",
       "      <td>0</td>\n",
       "      <td>1</td>\n",
       "      <td>0</td>\n",
       "      <td>0</td>\n",
       "      <td>0</td>\n",
       "    </tr>\n",
       "  </tbody>\n",
       "</table>\n",
       "</div>"
      ],
      "text/plain": [
       "    viewType  roomDepth  distToElevator  distToNurseStation  roomArea  \\\n",
       "0  hardscape   0.294253      236.617906          110.440005       450   \n",
       "1   building   0.464286       99.592921           19.918584       450   \n",
       "2   greenery   0.257143      153.002567           67.301283       450   \n",
       "3   greenery   0.300265      201.873097          119.523355       450   \n",
       "4  hardscape   0.301149      220.303850          122.501283       450   \n",
       "\n",
       "   lengthOfStay  painMedicine  medError  complicationRate  imgPath  \\\n",
       "0      5.154973     29.046473         0                 0        0   \n",
       "1      2.994674     12.641982         0                 0        1   \n",
       "2      4.084376     11.470255         0                 0        2   \n",
       "3      2.174077      7.381344         0                 0        3   \n",
       "4      5.513778     32.983419         0                 0        4   \n",
       "\n",
       "   roomCoordinateX  roomCoordinateY  headIsovist  doorIsovist  sinkIsovist  \\\n",
       "0       -11.741383        99.007585   426.676555   480.776509   336.318056   \n",
       "1        78.718213        -0.278939   548.296155   636.071360   374.817764   \n",
       "2        75.563544       -60.183228   436.017976   493.723516   343.912753   \n",
       "3       -19.022660        79.790069   445.453332   498.349012   347.664951   \n",
       "4       -76.602378        58.855296   436.017976   493.723516   343.912753   \n",
       "\n",
       "   isGreenery  isBuilding  isParking  NA  NA.1  \n",
       "0           0           1          0   0     0  \n",
       "1           0           1          0   0     0  \n",
       "2           1           0          0   0     0  \n",
       "3           1           0          0   0     0  \n",
       "4           0           1          0   0     0  "
      ]
     },
     "execution_count": 7,
     "metadata": {},
     "output_type": "execute_result"
    }
   ],
   "source": [
    "data_fn = 'Data/190508_Output.csv'\n",
    "df = pd.read_csv(data_fn)\n",
    "df.head()"
   ]
  },
  {
   "cell_type": "code",
   "execution_count": 20,
   "metadata": {},
   "outputs": [
    {
     "data": {
      "text/plain": [
       "(10001, 20)"
      ]
     },
     "execution_count": 20,
     "metadata": {},
     "output_type": "execute_result"
    }
   ],
   "source": [
    "df.shape"
   ]
  },
  {
   "cell_type": "markdown",
   "metadata": {},
   "source": [
    "Based on some EDA and early modeling I did, I decided to simulate patient outcome based off of parameters from literature. I decided to simulate length of stay, so I dropped everything in the data frame that wasn't room spatial features. I also changed titles to `snake_case`."
   ]
  },
  {
   "cell_type": "code",
   "execution_count": 8,
   "metadata": {},
   "outputs": [
    {
     "data": {
      "text/html": [
       "<div>\n",
       "<style scoped>\n",
       "    .dataframe tbody tr th:only-of-type {\n",
       "        vertical-align: middle;\n",
       "    }\n",
       "\n",
       "    .dataframe tbody tr th {\n",
       "        vertical-align: top;\n",
       "    }\n",
       "\n",
       "    .dataframe thead th {\n",
       "        text-align: right;\n",
       "    }\n",
       "</style>\n",
       "<table border=\"1\" class=\"dataframe\">\n",
       "  <thead>\n",
       "    <tr style=\"text-align: right;\">\n",
       "      <th></th>\n",
       "      <th>view_type</th>\n",
       "      <th>room_depth</th>\n",
       "      <th>dist_to_elevator</th>\n",
       "      <th>dist_to_nurse_station</th>\n",
       "      <th>head_isovist</th>\n",
       "      <th>door_isovist</th>\n",
       "      <th>sink_isovist</th>\n",
       "    </tr>\n",
       "  </thead>\n",
       "  <tbody>\n",
       "    <tr>\n",
       "      <th>0</th>\n",
       "      <td>hardscape</td>\n",
       "      <td>0.294253</td>\n",
       "      <td>236.617906</td>\n",
       "      <td>110.440005</td>\n",
       "      <td>426.676555</td>\n",
       "      <td>480.776509</td>\n",
       "      <td>336.318056</td>\n",
       "    </tr>\n",
       "    <tr>\n",
       "      <th>1</th>\n",
       "      <td>building</td>\n",
       "      <td>0.464286</td>\n",
       "      <td>99.592921</td>\n",
       "      <td>19.918584</td>\n",
       "      <td>548.296155</td>\n",
       "      <td>636.071360</td>\n",
       "      <td>374.817764</td>\n",
       "    </tr>\n",
       "    <tr>\n",
       "      <th>2</th>\n",
       "      <td>greenery</td>\n",
       "      <td>0.257143</td>\n",
       "      <td>153.002567</td>\n",
       "      <td>67.301283</td>\n",
       "      <td>436.017976</td>\n",
       "      <td>493.723516</td>\n",
       "      <td>343.912753</td>\n",
       "    </tr>\n",
       "    <tr>\n",
       "      <th>3</th>\n",
       "      <td>greenery</td>\n",
       "      <td>0.300265</td>\n",
       "      <td>201.873097</td>\n",
       "      <td>119.523355</td>\n",
       "      <td>445.453332</td>\n",
       "      <td>498.349012</td>\n",
       "      <td>347.664951</td>\n",
       "    </tr>\n",
       "    <tr>\n",
       "      <th>4</th>\n",
       "      <td>hardscape</td>\n",
       "      <td>0.301149</td>\n",
       "      <td>220.303850</td>\n",
       "      <td>122.501283</td>\n",
       "      <td>436.017976</td>\n",
       "      <td>493.723516</td>\n",
       "      <td>343.912753</td>\n",
       "    </tr>\n",
       "  </tbody>\n",
       "</table>\n",
       "</div>"
      ],
      "text/plain": [
       "   view_type  room_depth  dist_to_elevator  dist_to_nurse_station  \\\n",
       "0  hardscape    0.294253        236.617906             110.440005   \n",
       "1   building    0.464286         99.592921              19.918584   \n",
       "2   greenery    0.257143        153.002567              67.301283   \n",
       "3   greenery    0.300265        201.873097             119.523355   \n",
       "4  hardscape    0.301149        220.303850             122.501283   \n",
       "\n",
       "   head_isovist  door_isovist  sink_isovist  \n",
       "0    426.676555    480.776509    336.318056  \n",
       "1    548.296155    636.071360    374.817764  \n",
       "2    436.017976    493.723516    343.912753  \n",
       "3    445.453332    498.349012    347.664951  \n",
       "4    436.017976    493.723516    343.912753  "
      ]
     },
     "execution_count": 8,
     "metadata": {},
     "output_type": "execute_result"
    }
   ],
   "source": [
    "#Generate cleaned data\n",
    "clean_df = (\n",
    "    df\n",
    "    .clean_names(case_type='snake')\n",
    "    .drop(columns=['is_greenery', 'is_building', \n",
    "                   'is_parking', 'na', 'na_1',\n",
    "                  'room_coordinate_x', 'room_coordinate_y',\n",
    "                  'img_path', 'room_area', 'length_of_stay',\n",
    "                  'pain_medicine', 'med_error', \n",
    "                   'complication_rate'])\n",
    "    .encode_categorical('view_type')\n",
    ")\n",
    "clean_df.head()"
   ]
  },
  {
   "cell_type": "markdown",
   "metadata": {},
   "source": [
    "I chose to simulate length of stay (LOS) because it was the outcome which I found the most data for related to the spatial features in this data set. Additionally, it is a critical health outcome, as it impacts patient costs, hospital room turnover, and increases risk of hospital acquired infections. For this study, I decided to simulate 80 patient stays per room, which is roughly a year's worth of stays based off of an average length of stay of [4.5 days](https://www.ncbi.nlm.nih.gov/books/NBK259100/). "
   ]
  },
  {
   "cell_type": "code",
   "execution_count": 10,
   "metadata": {},
   "outputs": [],
   "source": [
    "repeat_index = np.repeat(np.arange(len(clean_df)), 80)\n",
    "clean_df_full = clean_df.iloc[repeat_index].reset_index()\n",
    "mean_LOS = 4.5"
   ]
  },
  {
   "cell_type": "code",
   "execution_count": 21,
   "metadata": {},
   "outputs": [
    {
     "data": {
      "text/plain": [
       "800080"
      ]
     },
     "execution_count": 21,
     "metadata": {},
     "output_type": "execute_result"
    }
   ],
   "source": [
    "clean_df_full.shape[0]"
   ]
  },
  {
   "cell_type": "markdown",
   "metadata": {},
   "source": [
    "LOS is roughly [gamma distributed](https://www.tandfonline.com/doi/abs/10.1080/00949655.2017.1300904). If I had the mean for each room, I could simulate a patient stay in that room by sampling from a gamma distribution with that mean. To find a mean LOS for each room, I found parameters which impact patient mean length of stay: view from the window, delirium, and patient falls."
   ]
  },
  {
   "cell_type": "markdown",
   "metadata": {},
   "source": [
    "![params](Images/simulation_parameters.png \"Simulation Parameters\")"
   ]
  },
  {
   "cell_type": "markdown",
   "metadata": {},
   "source": [
    "Source hyperlinks: 1) [Ulrich](https://science.sciencemag.org/content/224/4647/420.long), 2) [Dunne et al.](https://onlinelibrary.wiley.com/doi/abs/10.1111/jep.12144), and 3) [Mangusan et al.](http://ajcc.aacnjournals.org/content/24/2/156.full)"
   ]
  },
  {
   "cell_type": "markdown",
   "metadata": {},
   "source": [
    "In order to incorporate the value changes from patient falls and delirium, I had to first simulate whether or not a patient experienced either of these events with input from spatial parameters in my dataset. Let's start with falls."
   ]
  },
  {
   "cell_type": "markdown",
   "metadata": {},
   "source": [
    "### Simulating hospital falls"
   ]
  },
  {
   "cell_type": "markdown",
   "metadata": {},
   "source": [
    "I found that the average incidence of a hospital fall is [3-5 per 1000 patient days](https://www.memorialcare.org/sites/default/files/media/Pat%20Quigley%20Falls%20and%20Fall-related%20injuries%20in%20hospitals%20-%20D%20Oliver%20May%202014.pdf). I also found that proximity to the nurse station can [reduce risk of fall up to 75% along with other factors](https://www.healthdesign.org/sites/default/files/fall_risks_report_final.pdf/). I used these values to create conditional probabilities of falls in rooms based on whether or not there was a nurse station within 60 feet, and used random number generation to simulate falls for each patient."
   ]
  },
  {
   "cell_type": "code",
   "execution_count": 18,
   "metadata": {},
   "outputs": [],
   "source": [
    "#declaring fall probs, second line is transforming to \n",
    "falls_per_1000_patient_days = 4\n",
    "falls_per_patient = falls_per_1000_patient_days / 1000 * mean_LOS\n",
    "falls_with_nurse_close = falls_per_patient * (1 - 0.5)\n",
    "\n",
    "#making filter for nurse station\n",
    "close_nurse_station = clean_df_full.dist_to_nurse_station < 60\n",
    "\n",
    "#adding probs based of nurse station\n",
    "fall_prob_feature = ((falls_per_patient * ~close_nurse_station)\n",
    "                         + (falls_with_nurse_close * close_nurse_station))\n",
    "clean_df_full = clean_df_full.add_column('fall_prob', fall_prob_feature)\n",
    "\n",
    "# fall simulation\n",
    "np.random.seed(123)\n",
    "random_nums_fall = np.random.rand(clean_df_full.shape[0])\n",
    "fall = random_nums_fall < fall_prob_feature\n",
    "clean_df_full = clean_df_full.add_column('fall', fall.astype('int'))"
   ]
  },
  {
   "cell_type": "code",
   "execution_count": 19,
   "metadata": {},
   "outputs": [
    {
     "data": {
      "text/html": [
       "<div>\n",
       "<style scoped>\n",
       "    .dataframe tbody tr th:only-of-type {\n",
       "        vertical-align: middle;\n",
       "    }\n",
       "\n",
       "    .dataframe tbody tr th {\n",
       "        vertical-align: top;\n",
       "    }\n",
       "\n",
       "    .dataframe thead th {\n",
       "        text-align: right;\n",
       "    }\n",
       "</style>\n",
       "<table border=\"1\" class=\"dataframe\">\n",
       "  <thead>\n",
       "    <tr style=\"text-align: right;\">\n",
       "      <th></th>\n",
       "      <th>index</th>\n",
       "      <th>view_type</th>\n",
       "      <th>room_depth</th>\n",
       "      <th>dist_to_elevator</th>\n",
       "      <th>dist_to_nurse_station</th>\n",
       "      <th>head_isovist</th>\n",
       "      <th>door_isovist</th>\n",
       "      <th>sink_isovist</th>\n",
       "      <th>fall_prob</th>\n",
       "      <th>fall</th>\n",
       "    </tr>\n",
       "  </thead>\n",
       "  <tbody>\n",
       "    <tr>\n",
       "      <th>0</th>\n",
       "      <td>0</td>\n",
       "      <td>hardscape</td>\n",
       "      <td>0.294253</td>\n",
       "      <td>236.617906</td>\n",
       "      <td>110.440005</td>\n",
       "      <td>426.676555</td>\n",
       "      <td>480.776509</td>\n",
       "      <td>336.318056</td>\n",
       "      <td>0.018</td>\n",
       "      <td>0</td>\n",
       "    </tr>\n",
       "    <tr>\n",
       "      <th>1</th>\n",
       "      <td>0</td>\n",
       "      <td>hardscape</td>\n",
       "      <td>0.294253</td>\n",
       "      <td>236.617906</td>\n",
       "      <td>110.440005</td>\n",
       "      <td>426.676555</td>\n",
       "      <td>480.776509</td>\n",
       "      <td>336.318056</td>\n",
       "      <td>0.018</td>\n",
       "      <td>0</td>\n",
       "    </tr>\n",
       "    <tr>\n",
       "      <th>2</th>\n",
       "      <td>0</td>\n",
       "      <td>hardscape</td>\n",
       "      <td>0.294253</td>\n",
       "      <td>236.617906</td>\n",
       "      <td>110.440005</td>\n",
       "      <td>426.676555</td>\n",
       "      <td>480.776509</td>\n",
       "      <td>336.318056</td>\n",
       "      <td>0.018</td>\n",
       "      <td>0</td>\n",
       "    </tr>\n",
       "    <tr>\n",
       "      <th>3</th>\n",
       "      <td>0</td>\n",
       "      <td>hardscape</td>\n",
       "      <td>0.294253</td>\n",
       "      <td>236.617906</td>\n",
       "      <td>110.440005</td>\n",
       "      <td>426.676555</td>\n",
       "      <td>480.776509</td>\n",
       "      <td>336.318056</td>\n",
       "      <td>0.018</td>\n",
       "      <td>0</td>\n",
       "    </tr>\n",
       "    <tr>\n",
       "      <th>4</th>\n",
       "      <td>0</td>\n",
       "      <td>hardscape</td>\n",
       "      <td>0.294253</td>\n",
       "      <td>236.617906</td>\n",
       "      <td>110.440005</td>\n",
       "      <td>426.676555</td>\n",
       "      <td>480.776509</td>\n",
       "      <td>336.318056</td>\n",
       "      <td>0.018</td>\n",
       "      <td>0</td>\n",
       "    </tr>\n",
       "  </tbody>\n",
       "</table>\n",
       "</div>"
      ],
      "text/plain": [
       "   index  view_type  room_depth  dist_to_elevator  dist_to_nurse_station  \\\n",
       "0      0  hardscape    0.294253        236.617906             110.440005   \n",
       "1      0  hardscape    0.294253        236.617906             110.440005   \n",
       "2      0  hardscape    0.294253        236.617906             110.440005   \n",
       "3      0  hardscape    0.294253        236.617906             110.440005   \n",
       "4      0  hardscape    0.294253        236.617906             110.440005   \n",
       "\n",
       "   head_isovist  door_isovist  sink_isovist  fall_prob  fall  \n",
       "0    426.676555    480.776509    336.318056      0.018     0  \n",
       "1    426.676555    480.776509    336.318056      0.018     0  \n",
       "2    426.676555    480.776509    336.318056      0.018     0  \n",
       "3    426.676555    480.776509    336.318056      0.018     0  \n",
       "4    426.676555    480.776509    336.318056      0.018     0  "
      ]
     },
     "execution_count": 19,
     "metadata": {},
     "output_type": "execute_result"
    }
   ],
   "source": [
    "clean_df_full.head()"
   ]
  },
  {
   "cell_type": "markdown",
   "metadata": {},
   "source": [
    "Now I have whether or not a fall happened for each patient!"
   ]
  },
  {
   "cell_type": "markdown",
   "metadata": {},
   "source": [
    "### Simulating delirium"
   ]
  },
  {
   "cell_type": "markdown",
   "metadata": {},
   "source": [
    "I found that [3–29% of patients acquire delirium while in the hospital](https://academic.oup.com/ageing/article/35/4/350/21998). I also found that delirium has a [much higher incidence in sleep-deprived patients](https://europepmc.org/abstract/med/1177486), and made the assumption that proximity to the elevator could influence sleep. I used these values and this knowledge to create conditional probabilities of delirium based off of distance to the elevator, which could influence the traffic and therefore the amount of noise that patients could be subjected to in their room that could interprut their sleep."
   ]
  },
  {
   "cell_type": "code",
   "execution_count": 24,
   "metadata": {},
   "outputs": [],
   "source": [
    "#declaring delirium probs\n",
    "wake_risk_very_close = 0.22\n",
    "wake_risk_close = wake_risk_very_close * 0.8\n",
    "baseline = 0.22 * 0.6\n",
    "\n",
    "#making filter for elevator values\n",
    "very_close_filter = clean_df_full.dist_to_elevator < 50\n",
    "close_filter = (clean_df_full.dist_to_elevator >= 50) & (clean_df_full.dist_to_elevator < 100)\n",
    "far_filter = clean_df_full.dist_to_elevator >= 100\n",
    "\n",
    "#adding probs based off of elevator\n",
    "delirium_prob_feature = ((wake_risk_very_close * very_close_filter)\n",
    "                         + (wake_risk_close * close_filter)\n",
    "                         + (baseline * far_filter))                   \n",
    "clean_df_full = clean_df_full.add_column('delirium_prob', delirium_prob_feature)\n",
    "\n",
    "# delirium simulation\n",
    "np.random.seed(42)\n",
    "random_nums_delirium = np.random.rand(clean_df_full.shape[0])\n",
    "has_delirium = random_nums_delirium < delirium_prob_feature\n",
    "clean_df_full = clean_df_full.add_column('has_delirium', has_delirium.astype('int'))"
   ]
  },
  {
   "cell_type": "markdown",
   "metadata": {},
   "source": [
    "Now we have whether or not delirium occured for each patient."
   ]
  },
  {
   "cell_type": "markdown",
   "metadata": {},
   "source": [
    "### Calculating mean length of stays per patient"
   ]
  },
  {
   "cell_type": "markdown",
   "metadata": {},
   "source": [
    "Now that I have whether delirium and a fall occured for each patient, I could simulate a length of stay for each patient by sampling from a gamma distribution off of their own estimated, personal mean LOS. To do this, I first needed to adjuste each patient's mean LOS based off of whether they had a view from nature, if they fell, and if they experienced delirium."
   ]
  },
  {
   "cell_type": "code",
   "execution_count": 25,
   "metadata": {},
   "outputs": [],
   "source": [
    "# contribution of trees\n",
    "tree_average = 7.96\n",
    "no_tree_average = 8.7\n",
    "tree_exp_mean = (tree_average + no_tree_average) / 2\n",
    "tree_diff = tree_average - tree_exp_mean \n",
    "no_tree_diff = no_tree_average - tree_exp_mean\n",
    "weighted_greenery_modifier = tree_diff * (mean_LOS / tree_exp_mean)\n",
    "weighted_no_greenery_modifier = no_tree_diff * (mean_LOS / tree_exp_mean)\n",
    "#arrays for trees\n",
    "greenery_modifier_array = ((clean_df_full.view_type=='greenery')*weighted_greenery_modifier\n",
    "                           + ~(clean_df_full.view_type=='greenery')*weighted_no_greenery_modifier)\n",
    "\n",
    "# contribution of fall\n",
    "fall_average = 37.2\n",
    "no_fall_average = 25.7\n",
    "fall_study_mean = (292/622) * 37.2 + (330/622) * 25.7\n",
    "\n",
    "fall_modifier = ((fall_average - fall_study_mean) / fall_study_mean) * mean_LOS\n",
    "no_fall_modifier = ((no_fall_average - fall_study_mean) / fall_study_mean) * mean_LOS\n",
    "\n",
    "fall_modifier_array = ((clean_df_full.fall==1) * fall_modifier\n",
    "                       + (clean_df_full.fall==0) * no_fall_modifier)\n",
    "\n",
    "\n",
    "#contribution of delirium\n",
    "del_study_mean_LOS = 6.2\n",
    "del_pos_LOS = 8.3\n",
    "del_neg_LOS = 5.5\n",
    "\n",
    "delirium_modifier = (del_pos_LOS - del_study_mean_LOS) / del_study_mean_LOS * mean_LOS\n",
    "no_delirium_modifier = (del_neg_LOS - del_study_mean_LOS) / del_study_mean_LOS * mean_LOS\n",
    "\n",
    "delirium_modifier_array = ((clean_df_full.has_delirium==1) * delirium_modifier\n",
    "                           + (clean_df_full.has_delirium==0) * no_delirium_modifier)\n",
    "\n",
    "#creating the mean LOS per patient \n",
    "mean_per_patient = (\n",
    "    mean_LOS  \n",
    "    + greenery_modifier_array\n",
    "    + fall_modifier_array\n",
    "    + delirium_modifier_array\n",
    ")\n",
    "#adding it to our array\n",
    "clean_df_full = clean_df_full.add_column('summed_mean', mean_per_patient)"
   ]
  },
  {
   "cell_type": "code",
   "execution_count": 26,
   "metadata": {},
   "outputs": [
    {
     "data": {
      "text/html": [
       "<div>\n",
       "<style scoped>\n",
       "    .dataframe tbody tr th:only-of-type {\n",
       "        vertical-align: middle;\n",
       "    }\n",
       "\n",
       "    .dataframe tbody tr th {\n",
       "        vertical-align: top;\n",
       "    }\n",
       "\n",
       "    .dataframe thead th {\n",
       "        text-align: right;\n",
       "    }\n",
       "</style>\n",
       "<table border=\"1\" class=\"dataframe\">\n",
       "  <thead>\n",
       "    <tr style=\"text-align: right;\">\n",
       "      <th></th>\n",
       "      <th>index</th>\n",
       "      <th>view_type</th>\n",
       "      <th>room_depth</th>\n",
       "      <th>dist_to_elevator</th>\n",
       "      <th>dist_to_nurse_station</th>\n",
       "      <th>head_isovist</th>\n",
       "      <th>door_isovist</th>\n",
       "      <th>sink_isovist</th>\n",
       "      <th>fall_prob</th>\n",
       "      <th>fall</th>\n",
       "      <th>delirium_prob</th>\n",
       "      <th>has_delirium</th>\n",
       "      <th>summed_mean</th>\n",
       "    </tr>\n",
       "  </thead>\n",
       "  <tbody>\n",
       "    <tr>\n",
       "      <th>0</th>\n",
       "      <td>0</td>\n",
       "      <td>hardscape</td>\n",
       "      <td>0.294253</td>\n",
       "      <td>236.617906</td>\n",
       "      <td>110.440005</td>\n",
       "      <td>426.676555</td>\n",
       "      <td>480.776509</td>\n",
       "      <td>336.318056</td>\n",
       "      <td>0.018</td>\n",
       "      <td>0</td>\n",
       "      <td>0.132</td>\n",
       "      <td>0</td>\n",
       "      <td>3.410619</td>\n",
       "    </tr>\n",
       "    <tr>\n",
       "      <th>1</th>\n",
       "      <td>0</td>\n",
       "      <td>hardscape</td>\n",
       "      <td>0.294253</td>\n",
       "      <td>236.617906</td>\n",
       "      <td>110.440005</td>\n",
       "      <td>426.676555</td>\n",
       "      <td>480.776509</td>\n",
       "      <td>336.318056</td>\n",
       "      <td>0.018</td>\n",
       "      <td>0</td>\n",
       "      <td>0.132</td>\n",
       "      <td>0</td>\n",
       "      <td>3.410619</td>\n",
       "    </tr>\n",
       "    <tr>\n",
       "      <th>2</th>\n",
       "      <td>0</td>\n",
       "      <td>hardscape</td>\n",
       "      <td>0.294253</td>\n",
       "      <td>236.617906</td>\n",
       "      <td>110.440005</td>\n",
       "      <td>426.676555</td>\n",
       "      <td>480.776509</td>\n",
       "      <td>336.318056</td>\n",
       "      <td>0.018</td>\n",
       "      <td>0</td>\n",
       "      <td>0.132</td>\n",
       "      <td>0</td>\n",
       "      <td>3.410619</td>\n",
       "    </tr>\n",
       "    <tr>\n",
       "      <th>3</th>\n",
       "      <td>0</td>\n",
       "      <td>hardscape</td>\n",
       "      <td>0.294253</td>\n",
       "      <td>236.617906</td>\n",
       "      <td>110.440005</td>\n",
       "      <td>426.676555</td>\n",
       "      <td>480.776509</td>\n",
       "      <td>336.318056</td>\n",
       "      <td>0.018</td>\n",
       "      <td>0</td>\n",
       "      <td>0.132</td>\n",
       "      <td>0</td>\n",
       "      <td>3.410619</td>\n",
       "    </tr>\n",
       "    <tr>\n",
       "      <th>4</th>\n",
       "      <td>0</td>\n",
       "      <td>hardscape</td>\n",
       "      <td>0.294253</td>\n",
       "      <td>236.617906</td>\n",
       "      <td>110.440005</td>\n",
       "      <td>426.676555</td>\n",
       "      <td>480.776509</td>\n",
       "      <td>336.318056</td>\n",
       "      <td>0.018</td>\n",
       "      <td>0</td>\n",
       "      <td>0.132</td>\n",
       "      <td>0</td>\n",
       "      <td>3.410619</td>\n",
       "    </tr>\n",
       "  </tbody>\n",
       "</table>\n",
       "</div>"
      ],
      "text/plain": [
       "   index  view_type  room_depth  dist_to_elevator  dist_to_nurse_station  \\\n",
       "0      0  hardscape    0.294253        236.617906             110.440005   \n",
       "1      0  hardscape    0.294253        236.617906             110.440005   \n",
       "2      0  hardscape    0.294253        236.617906             110.440005   \n",
       "3      0  hardscape    0.294253        236.617906             110.440005   \n",
       "4      0  hardscape    0.294253        236.617906             110.440005   \n",
       "\n",
       "   head_isovist  door_isovist  sink_isovist  fall_prob  fall  delirium_prob  \\\n",
       "0    426.676555    480.776509    336.318056      0.018     0          0.132   \n",
       "1    426.676555    480.776509    336.318056      0.018     0          0.132   \n",
       "2    426.676555    480.776509    336.318056      0.018     0          0.132   \n",
       "3    426.676555    480.776509    336.318056      0.018     0          0.132   \n",
       "4    426.676555    480.776509    336.318056      0.018     0          0.132   \n",
       "\n",
       "   has_delirium  summed_mean  \n",
       "0             0     3.410619  \n",
       "1             0     3.410619  \n",
       "2             0     3.410619  \n",
       "3             0     3.410619  \n",
       "4             0     3.410619  "
      ]
     },
     "execution_count": 26,
     "metadata": {},
     "output_type": "execute_result"
    }
   ],
   "source": [
    "clean_df_full.head()"
   ]
  },
  {
   "cell_type": "markdown",
   "metadata": {},
   "source": [
    "### Simulating length of stays"
   ]
  },
  {
   "cell_type": "markdown",
   "metadata": {},
   "source": [
    "Now that I have expected means for each patient, I can simulate from a gamma distribution. Here's the function I used:"
   ]
  },
  {
   "cell_type": "code",
   "execution_count": 27,
   "metadata": {},
   "outputs": [],
   "source": [
    "#sampling from gamma distribution\n",
    "def sample_gamma(mean, variance, random_state):\n",
    "    scale = variance / mean\n",
    "    shape = mean / scale\n",
    "    return gamma.rvs(shape, scale=scale, size=1, random_state=random_state)"
   ]
  },
  {
   "cell_type": "markdown",
   "metadata": {},
   "source": [
    "And here's the code I used to add the values. I chose to use variance = mean, which is [a slight overestimate to the actual variance](https://www.tandfonline.com/doi/abs/10.1080/00949655.2017.1300904). **Warning** this code takes ~5 minutes to execute since we need to generate a random number each row which is different than the random number from each other row."
   ]
  },
  {
   "cell_type": "code",
   "execution_count": 31,
   "metadata": {},
   "outputs": [],
   "source": [
    "#variance for scale factor 1\n",
    "variance = 4.5\n",
    "#making sampled mean\n",
    "sampled_mean = (np.vectorize(sample_gamma)\n",
    "            (clean_df_full.summed_mean, variance, np.arange(features_df_full.shape[0])))"
   ]
  },
  {
   "cell_type": "markdown",
   "metadata": {},
   "source": [
    "Let's add it to our data frame"
   ]
  },
  {
   "cell_type": "code",
   "execution_count": 32,
   "metadata": {},
   "outputs": [],
   "source": [
    "clean_df_full = clean_df_full.add_column('sampled_LOS', sampled_mean)"
   ]
  },
  {
   "cell_type": "markdown",
   "metadata": {},
   "source": [
    "### Visualizing simulated data"
   ]
  },
  {
   "cell_type": "markdown",
   "metadata": {},
   "source": [
    "I wanted to see how my simulated patient LOS depended on my input spatial features."
   ]
  },
  {
   "cell_type": "code",
   "execution_count": 38,
   "metadata": {},
   "outputs": [
    {
     "data": {
      "image/png": "[encoded data removed]",
      "text/plain": [
       "<Figure size 432x288 with 1 Axes>"
      ]
     },
     "metadata": {
      "needs_background": "light"
     },
     "output_type": "display_data"
    }
   ],
   "source": [
    "# visualizing LOS by view\n",
    "sns.distplot(clean_df_full.filter_on('view_type==\"greenery\"').loc[:, 'sampled_LOS'], \n",
    "             color='green', label='greenery outside')\n",
    "ax = sns.distplot(clean_df_full.filter_on('view_type!=\"greenery\"').loc[:, 'sampled_LOS'], \n",
    "                  color='grey', label='no greenery outside')\n",
    "plt.xlabel('Length of Stay per Patient (days)', fontsize=18)\n",
    "plt.ylabel('Probability Density', fontsize=18)\n",
    "plt.legend()\n",
    "ax.tick_params(axis='both', which='major', labelsize=14)"
   ]
  },
  {
   "cell_type": "code",
   "execution_count": 39,
   "metadata": {},
   "outputs": [
    {
     "data": {
      "image/png": "[encoded data removed]",
      "text/plain": [
       "<Figure size 432x288 with 1 Axes>"
      ]
     },
     "metadata": {
      "needs_background": "light"
     },
     "output_type": "display_data"
    }
   ],
   "source": [
    "# visualizing LOS by nurse station distance\n",
    "sns.distplot(clean_df_full.filter_on('dist_to_nurse_station<60').loc[:, 'sampled_LOS'],\n",
    "            label='close to nurse station')\n",
    "sns.distplot(clean_df_full.filter_on('dist_to_nurse_station>60').loc[:, 'sampled_LOS'],\n",
    "            label='far from nurse station')\n",
    "plt.xlabel('Length of Stay per Patient (days)', fontsize=18)\n",
    "plt.ylabel('Probability Density', fontsize=18)\n",
    "plt.legend()\n",
    "ax.tick_params(axis='both', which='major', labelsize=12)"
   ]
  },
  {
   "cell_type": "code",
   "execution_count": 40,
   "metadata": {},
   "outputs": [
    {
     "data": {
      "image/png": "[encoded data removed]",
      "text/plain": [
       "<Figure size 432x288 with 1 Axes>"
      ]
     },
     "metadata": {
      "needs_background": "light"
     },
     "output_type": "display_data"
    }
   ],
   "source": [
    "# visualizing LOS by elevator distance\n",
    "sns.distplot(clean_df_full.filter_on('dist_to_elevator<100').loc[:, 'sampled_LOS'], \n",
    "             color='red', label='close to elevator')\n",
    "ax = sns.distplot(clean_df_full.filter_on('dist_to_elevator>100').loc[:, 'sampled_LOS'], \n",
    "                  color='blue', label='far from elevator')\n",
    "plt.xlabel('Length of Stay per Patient (days)', fontsize=18)\n",
    "plt.ylabel('Probability Density', fontsize=18)\n",
    "plt.legend()\n",
    "ax.tick_params(axis='both', which='major', labelsize=14)"
   ]
  },
  {
   "cell_type": "markdown",
   "metadata": {},
   "source": [
    "There is a whole lot of overlap. Although some predictive models might be able to see these slight slight differences, it will likely be easier to see at the level of the room. I'm going to aggregate LOS by room now."
   ]
  },
  {
   "cell_type": "markdown",
   "metadata": {},
   "source": [
    "### Visualizing distributions of room-aggregated LOS"
   ]
  },
  {
   "cell_type": "code",
   "execution_count": 42,
   "metadata": {},
   "outputs": [
    {
     "data": {
      "text/html": [
       "<div>\n",
       "<style scoped>\n",
       "    .dataframe tbody tr th:only-of-type {\n",
       "        vertical-align: middle;\n",
       "    }\n",
       "\n",
       "    .dataframe tbody tr th {\n",
       "        vertical-align: top;\n",
       "    }\n",
       "\n",
       "    .dataframe thead th {\n",
       "        text-align: right;\n",
       "    }\n",
       "</style>\n",
       "<table border=\"1\" class=\"dataframe\">\n",
       "  <thead>\n",
       "    <tr style=\"text-align: right;\">\n",
       "      <th></th>\n",
       "      <th>room_depth</th>\n",
       "      <th>dist_to_elevator</th>\n",
       "      <th>dist_to_nurse_station</th>\n",
       "      <th>head_isovist</th>\n",
       "      <th>door_isovist</th>\n",
       "      <th>sink_isovist</th>\n",
       "      <th>fall_prob</th>\n",
       "      <th>fall</th>\n",
       "      <th>delirium_prob</th>\n",
       "      <th>has_delirium</th>\n",
       "      <th>summed_mean</th>\n",
       "      <th>sampled_LOS</th>\n",
       "      <th>view_type</th>\n",
       "    </tr>\n",
       "    <tr>\n",
       "      <th>index</th>\n",
       "      <th></th>\n",
       "      <th></th>\n",
       "      <th></th>\n",
       "      <th></th>\n",
       "      <th></th>\n",
       "      <th></th>\n",
       "      <th></th>\n",
       "      <th></th>\n",
       "      <th></th>\n",
       "      <th></th>\n",
       "      <th></th>\n",
       "      <th></th>\n",
       "      <th></th>\n",
       "    </tr>\n",
       "  </thead>\n",
       "  <tbody>\n",
       "    <tr>\n",
       "      <th>0</th>\n",
       "      <td>0.294253</td>\n",
       "      <td>236.617906</td>\n",
       "      <td>110.440005</td>\n",
       "      <td>426.676555</td>\n",
       "      <td>480.776509</td>\n",
       "      <td>336.318056</td>\n",
       "      <td>0.018</td>\n",
       "      <td>0.0125</td>\n",
       "      <td>0.132</td>\n",
       "      <td>0.1625</td>\n",
       "      <td>3.761661</td>\n",
       "      <td>3.665700</td>\n",
       "      <td>hardscape</td>\n",
       "    </tr>\n",
       "    <tr>\n",
       "      <th>1</th>\n",
       "      <td>0.464286</td>\n",
       "      <td>99.592921</td>\n",
       "      <td>19.918584</td>\n",
       "      <td>548.296155</td>\n",
       "      <td>636.071360</td>\n",
       "      <td>374.817764</td>\n",
       "      <td>0.009</td>\n",
       "      <td>0.0125</td>\n",
       "      <td>0.176</td>\n",
       "      <td>0.1625</td>\n",
       "      <td>3.761661</td>\n",
       "      <td>3.795298</td>\n",
       "      <td>building</td>\n",
       "    </tr>\n",
       "    <tr>\n",
       "      <th>2</th>\n",
       "      <td>0.257143</td>\n",
       "      <td>153.002567</td>\n",
       "      <td>67.301283</td>\n",
       "      <td>436.017976</td>\n",
       "      <td>493.723516</td>\n",
       "      <td>343.912753</td>\n",
       "      <td>0.018</td>\n",
       "      <td>0.0125</td>\n",
       "      <td>0.132</td>\n",
       "      <td>0.1375</td>\n",
       "      <td>3.311095</td>\n",
       "      <td>3.370062</td>\n",
       "      <td>greenery</td>\n",
       "    </tr>\n",
       "    <tr>\n",
       "      <th>3</th>\n",
       "      <td>0.300265</td>\n",
       "      <td>201.873097</td>\n",
       "      <td>119.523355</td>\n",
       "      <td>445.453332</td>\n",
       "      <td>498.349012</td>\n",
       "      <td>347.664951</td>\n",
       "      <td>0.018</td>\n",
       "      <td>0.0625</td>\n",
       "      <td>0.132</td>\n",
       "      <td>0.1375</td>\n",
       "      <td>3.394298</td>\n",
       "      <td>3.473077</td>\n",
       "      <td>greenery</td>\n",
       "    </tr>\n",
       "    <tr>\n",
       "      <th>4</th>\n",
       "      <td>0.301149</td>\n",
       "      <td>220.303850</td>\n",
       "      <td>122.501283</td>\n",
       "      <td>436.017976</td>\n",
       "      <td>493.723516</td>\n",
       "      <td>343.912753</td>\n",
       "      <td>0.018</td>\n",
       "      <td>0.0250</td>\n",
       "      <td>0.132</td>\n",
       "      <td>0.1875</td>\n",
       "      <td>3.833269</td>\n",
       "      <td>3.585154</td>\n",
       "      <td>hardscape</td>\n",
       "    </tr>\n",
       "  </tbody>\n",
       "</table>\n",
       "</div>"
      ],
      "text/plain": [
       "       room_depth  dist_to_elevator  dist_to_nurse_station  head_isovist  \\\n",
       "index                                                                      \n",
       "0        0.294253        236.617906             110.440005    426.676555   \n",
       "1        0.464286         99.592921              19.918584    548.296155   \n",
       "2        0.257143        153.002567              67.301283    436.017976   \n",
       "3        0.300265        201.873097             119.523355    445.453332   \n",
       "4        0.301149        220.303850             122.501283    436.017976   \n",
       "\n",
       "       door_isovist  sink_isovist  fall_prob    fall  delirium_prob  \\\n",
       "index                                                                 \n",
       "0        480.776509    336.318056      0.018  0.0125          0.132   \n",
       "1        636.071360    374.817764      0.009  0.0125          0.176   \n",
       "2        493.723516    343.912753      0.018  0.0125          0.132   \n",
       "3        498.349012    347.664951      0.018  0.0625          0.132   \n",
       "4        493.723516    343.912753      0.018  0.0250          0.132   \n",
       "\n",
       "       has_delirium  summed_mean  sampled_LOS  view_type  \n",
       "index                                                     \n",
       "0            0.1625     3.761661     3.665700  hardscape  \n",
       "1            0.1625     3.761661     3.795298   building  \n",
       "2            0.1375     3.311095     3.370062   greenery  \n",
       "3            0.1375     3.394298     3.473077   greenery  \n",
       "4            0.1875     3.833269     3.585154  hardscape  "
      ]
     },
     "execution_count": 42,
     "metadata": {},
     "output_type": "execute_result"
    }
   ],
   "source": [
    "#aggregating features by room\n",
    "aggregated_features = clean_df_full.groupby('index').mean()\n",
    "\n",
    "#adding view type back in\n",
    "agg_features_view = (\n",
    "    aggregated_features\n",
    "    .add_column('view_type', clean_df.view_type)\n",
    ")\n",
    "\n",
    "agg_features_view.head()"
   ]
  },
  {
   "cell_type": "code",
   "execution_count": 43,
   "metadata": {},
   "outputs": [
    {
     "data": {
      "image/png": "[encoded data removed]",
      "text/plain": [
       "<Figure size 432x288 with 1 Axes>"
      ]
     },
     "metadata": {
      "needs_background": "light"
     },
     "output_type": "display_data"
    }
   ],
   "source": [
    "#Visualizing mean LOS by view\n",
    "sns.distplot(agg_features_view.filter_on('view_type==\"greenery\"').loc[:, 'sampled_LOS'], \n",
    "             color='green', label='greenery view')\n",
    "ax = sns.distplot(agg_features_view.filter_on('view_type!=\"greenery\"').loc[:, 'sampled_LOS'], \n",
    "                  color='grey', label='no greenery view')\n",
    "plt.xlabel('Mean Length of Stay per Room (days)', fontsize=18)\n",
    "plt.ylabel('Probability Density', fontsize=18)\n",
    "plt.legend()\n",
    "ax.tick_params(axis='both', which='major', labelsize=14)"
   ]
  },
  {
   "cell_type": "markdown",
   "metadata": {},
   "source": [
    "Much more separation! Let's look at the other parameters."
   ]
  },
  {
   "cell_type": "code",
   "execution_count": 45,
   "metadata": {},
   "outputs": [
    {
     "data": {
      "image/png": "[encoded data removed]",
      "text/plain": [
       "<Figure size 432x288 with 1 Axes>"
      ]
     },
     "metadata": {
      "needs_background": "light"
     },
     "output_type": "display_data"
    }
   ],
   "source": [
    "#Visualizing mean LOS by nurse station distance\n",
    "sns.distplot(agg_features_view.filter_on('dist_to_nurse_station<60').loc[:, 'sampled_LOS'], \n",
    "             color='grey', label='close to nurse station')\n",
    "ax = sns.distplot(agg_features_view.filter_on('dist_to_nurse_station>60').loc[:, 'sampled_LOS'], \n",
    "                  color='orange', label='far from elevator')\n",
    "plt.xlabel('Mean Length of Stay per Room (days)', fontsize=18)\n",
    "plt.ylabel('Probability Density', fontsize=18)\n",
    "plt.legend()\n",
    "ax.tick_params(axis='both', which='major', labelsize=14)"
   ]
  },
  {
   "cell_type": "markdown",
   "metadata": {},
   "source": [
    "Still very little separation here - the infrequency of falls likely contributes to not seeing any difference."
   ]
  },
  {
   "cell_type": "code",
   "execution_count": 44,
   "metadata": {},
   "outputs": [
    {
     "data": {
      "image/png": "[encoded data removed]",
      "text/plain": [
       "<Figure size 432x288 with 1 Axes>"
      ]
     },
     "metadata": {
      "needs_background": "light"
     },
     "output_type": "display_data"
    }
   ],
   "source": [
    "#Visualizing mean LOS by elevator\n",
    "sns.distplot(agg_features_view.filter_on('dist_to_elevator<100').loc[:, 'sampled_LOS'], \n",
    "             color='red', label='close to elevator')\n",
    "ax = sns.distplot(agg_features_view.filter_on('dist_to_elevator>100').loc[:, 'sampled_LOS'], \n",
    "                  color='blue', label='far from elevator')\n",
    "plt.xlabel('Mean Length of Stay per Room (days)', fontsize=18)\n",
    "plt.ylabel('Probability Density', fontsize=18)\n",
    "plt.legend()\n",
    "ax.tick_params(axis='both', which='major', labelsize=14)"
   ]
  },
  {
   "cell_type": "markdown",
   "metadata": {},
   "source": [
    "There is a little separation here - it looks like we can better parse contribution of delirium because it is a little more common than falling."
   ]
  },
  {
   "cell_type": "markdown",
   "metadata": {},
   "source": [
    "# Summary and exporting data"
   ]
  },
  {
   "cell_type": "markdown",
   "metadata": {},
   "source": [
    "I simulated patient length of stay day data for: 10,000 rooms and 80 patients per room to represent a years worth of data. I used parameters from literature to simulate realistic differences in length of stay based off of differences in room spatial data. I've found that aggregating patient data by room will likely aid Spatio Metrics in identifying relationships between design features and room-based patient outcomes."
   ]
  },
  {
   "cell_type": "code",
   "execution_count": 46,
   "metadata": {},
   "outputs": [],
   "source": [
    "clean_df_full.to_csv('Data/full_simulated_outcomes.csv')"
   ]
  },
  {
   "cell_type": "code",
   "execution_count": 47,
   "metadata": {},
   "outputs": [],
   "source": [
    "agg_features_view.to_csv('Data/aggregated_simulated_outcomes.csv')"
   ]
  }
 ],
 "metadata": {
  "kernelspec": {
   "display_name": "Python [conda env:insight]",
   "language": "python",
   "name": "conda-env-insight-py"
  },
  "language_info": {
   "codemirror_mode": {
    "name": "ipython",
    "version": 3
   },
   "file_extension": ".py",
   "mimetype": "text/x-python",
   "name": "python",
   "nbconvert_exporter": "python",
   "pygments_lexer": "ipython3",
   "version": "3.6.9"
  }
 },
 "nbformat": 4,
 "nbformat_minor": 4
}
